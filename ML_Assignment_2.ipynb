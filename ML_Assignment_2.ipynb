{
 "cells": [
  {
   "cell_type": "markdown",
   "id": "22d60c6c",
   "metadata": {},
   "source": [
    "### Question 1"
   ]
  },
  {
   "cell_type": "raw",
   "id": "59e23c40",
   "metadata": {},
   "source": [
    "Human Learning : Human learning is the process through which person's knowledge and behaviour gets changed\n",
    "                as a result of experiences.\n",
    "Examples:\n",
    "1)Learning to drive a car: the more we practice the more skilled driver we become.\n",
    "2)Learning a lesson of any subject: the more we came across and practise the lesson the more we are able to remember it."
   ]
  },
  {
   "cell_type": "markdown",
   "id": "cbfd93f9",
   "metadata": {},
   "source": [
    "### Question 2"
   ]
  },
  {
   "cell_type": "raw",
   "id": "0bec58d6",
   "metadata": {},
   "source": [
    "There are many types of human learning.But, the most basic ones are:\n",
    "1)Auditive Learning : Learning by listening and speaking.\n",
    "2)Visual Learning : Learning through visuals.\n",
    "3)Haptic Learning: Learning through touches and feeling.\n",
    "4)Learning through intellect.\n",
    "\n",
    "Although Human Learning and machine Learning are different in some ways but the basic principal is same:\n",
    "They both learn through their experiences and past records, do some calculation and reach to the fina outcome that become the part of their behaviour."
   ]
  },
  {
   "cell_type": "markdown",
   "id": "7b9ff4cb",
   "metadata": {},
   "source": [
    "### Question 3"
   ]
  },
  {
   "cell_type": "raw",
   "id": "85c6f948",
   "metadata": {},
   "source": [
    "Machine Learning is the part of AI-Artificial Intelligence. In this machine learn through past experiences without direct\n",
    "programming.In other words, Machines learn throught the past data fed to them and they draw some insightful information\n",
    "using some pre defined algorithms.This way they grow, develop and evolve themselves.\n",
    "\n",
    "Working :1) We feed some data (training data) to machines and let them draw the conclusions using some algorithms.\n",
    "         2) The completely unfamiliar data (test data) is fed to the machine and machine made some prediction regarding\n",
    "            new data.\n",
    "         3) If the prediction does not matches the result the machine is retrained until the desired outcome came.\n",
    "            \n",
    "Responsibilities of machine learning:\n",
    "1) Draw the useful conclusions from the training data.\n",
    "2) Predicting the correct output for the new data."
   ]
  },
  {
   "cell_type": "markdown",
   "id": "37f77582",
   "metadata": {},
   "source": [
    "### Question 4"
   ]
  },
  {
   "cell_type": "raw",
   "id": "0cc94567",
   "metadata": {},
   "source": [
    "In reinforcement Learning, agent works on trial and error basis. Agent takes an action if it is correct agent receives the\n",
    "reward and if it is incorrect agent receives a penalty. In the process of reward and penalty agent tries to minimize the\n",
    "penalty."
   ]
  },
  {
   "cell_type": "markdown",
   "id": "8c5c9760",
   "metadata": {},
   "source": [
    "### Question 5"
   ]
  },
  {
   "cell_type": "raw",
   "id": "e90ce4f6",
   "metadata": {},
   "source": [
    "In Learning as a search process, we select one hypothesis,out of all the possible hypothesis that best fits for our training\n",
    "examples.\n",
    "Example: Suppose we have 100 syntactical hypothesis and 210 symentical hypothesis then out of 310(100+210) hypothesis\n",
    "         we need to select the one hypothesis that fits best for training set for learning purpose."
   ]
  },
  {
   "cell_type": "markdown",
   "id": "3f8a0540",
   "metadata": {},
   "source": [
    "### Question 6"
   ]
  },
  {
   "cell_type": "raw",
   "id": "65c0c45f",
   "metadata": {},
   "source": [
    "Goals of machine learning: \n",
    "1) To understand the nature of human learning and buils the learning capabilities in machines.\n",
    "2) To make the machines which can ease the task of humans.\n",
    "3) To create new learning methods and generate learning algorithms independent of applications.\n",
    "4) To create the systems which can behave more like humans.\n",
    "\n",
    "Relationship: Machines are building their learning capabilities similarly the human learn by using the experiences of past.\n",
    "              Through this they enhance their knowledge and grow and use this knowledge to predict the output of the\n",
    "              unknown event. These are working more or less in a similar way like human do.\n",
    "              "
   ]
  },
  {
   "cell_type": "markdown",
   "id": "49e4d6d4",
   "metadata": {},
   "source": [
    "### Question 7"
   ]
  },
  {
   "cell_type": "raw",
   "id": "802bf37a",
   "metadata": {},
   "source": [
    "The Basic steps of machine learning are:\n",
    "Training: In this, machine is fed with the past data and and learn things using some algorithms.\n",
    "Testing: In this, machine is provided with the unknown data but whose result is predefined and asked to give the output.\n",
    "         If model tell the correct answer it moves to the next step otherwise it will go to the training phase again.\n",
    "Predicting: Whenever the machine model is ready, we provide the data whose outcome is unknown to us as well. Thus using\n",
    "            machine capabilities to ease out the task.\n",
    "\n",
    "Example:Profit from sales in a given month.\n",
    "Training phase: We provide the data of previous year sales and profit to the machine model.\n",
    "Testing phase: We provide the datum from the previous data and machine predict the profit for that datum. Then we cross\n",
    "    `          verify with the actual result. If it is correct our machine can move to predicting phase.\n",
    "Predicting phase : We gave the estimated data to the machine and try to prdect the profit for that data.\n",
    "\n"
   ]
  },
  {
   "cell_type": "markdown",
   "id": "3159ad03",
   "metadata": {},
   "source": [
    "### Question 8"
   ]
  },
  {
   "cell_type": "raw",
   "id": "00dda7bc",
   "metadata": {},
   "source": [
    "Abstraction Method : Abstraction seperates Ideas from specific instance of those ideas. In machine learning it means\n",
    "concerning more about the right algorithm rather than its implementation.\n",
    "An abstract method is declared but contain no implementation.\n",
    "\n",
    "Example:\n",
    "    \n",
    "class AbstractPlane(ABC):\n",
    "    __metaclass__ = abc.ABCMeta\n",
    "    \n",
    "    @abc.abstractmethod\n",
    "    def takeoff(self):\n",
    "        ''' data '''\n",
    "    \n",
    "    @abc.abstractmethod\n",
    "    def land(self):\n",
    "        ''' data '''\n",
    "\n"
   ]
  },
  {
   "cell_type": "markdown",
   "id": "1693112b",
   "metadata": {},
   "source": [
    "### Question 9"
   ]
  },
  {
   "cell_type": "raw",
   "id": "ba9ea6c9",
   "metadata": {},
   "source": [
    "Generalisation: is the way of solving new problem based on the experience of solving previous problem of similar kind.\n",
    "We can take an algorithm that solves some specific problems and adapt it so that it can solve the completely new problem\n",
    "of similar kind by using this general solution.\n",
    "\n",
    "In Machine learning, we train our model with some data and let it adapt to this data and the result of the problem\n",
    "associated with the data. then aour model is fed with the completely unseen data and problem of the similar kind and asked\n",
    "to provide the solution for that. Our model used the same generalised techinique it has learned for this new data as well\n",
    "and provide the solution.\n"
   ]
  },
  {
   "cell_type": "markdown",
   "id": "b5bf1342",
   "metadata": {},
   "source": [
    "### Question 10"
   ]
  },
  {
   "cell_type": "raw",
   "id": "c863c7bd",
   "metadata": {},
   "source": [
    "Classification : n classification we group the data of similar kind into one class. It is then used to identify the\n",
    "category of new observation based on the training data.\n",
    "\n",
    "The main distiction between classification and regression is that, the regression algorithms are used to predict the\n",
    "continuous value such as price, salary, age etc. and classification algorithm are used to predict/classify discrete values\n",
    "such as male or femal, spam or not spam etc."
   ]
  },
  {
   "cell_type": "markdown",
   "id": "4d88ea8d",
   "metadata": {},
   "source": [
    "### Question 11"
   ]
  },
  {
   "cell_type": "raw",
   "id": "f8420ea6",
   "metadata": {},
   "source": [
    "Regression: In Regression analysis we find the relationship between dependent(target) and independent(predictor) variable\n",
    "    using one or more independent variables. In other words, regression helps us to find out how the value of target\n",
    "    variable is changing with respect to predictor variables.\n",
    "    \n",
    "Example: Prediction of house price based on its location, facility, area etc. Here, house price is the dependent(target)\n",
    "    variable and others are independent(predictor) variables."
   ]
  },
  {
   "cell_type": "markdown",
   "id": "21460316",
   "metadata": {},
   "source": [
    "### Question 12"
   ]
  },
  {
   "cell_type": "raw",
   "id": "c45124c4",
   "metadata": {},
   "source": [
    "Clustering : Clustering is the task of dividing the population or data points into a number of groups such that data points\n",
    "    in the same groups are more similar to other data points in the same group and dissimilar to the data points in other\n",
    "    groups. It is basically a collection of objects on the basis of similarity and dissimilarity between them. "
   ]
  },
  {
   "cell_type": "markdown",
   "id": "e857b59b",
   "metadata": {},
   "source": [
    "### Question 13"
   ]
  },
  {
   "cell_type": "raw",
   "id": "ba9c190c",
   "metadata": {},
   "source": [
    "i) Machine Learning Algorithms are used: to train the model which can predict the dependent variable by finding some\n",
    "    relationship between the independent and dependent variables.There are many machine learning algorithms like Linear\n",
    "    Regression, SVM, Random Forest, Logistic Regression etc.\n",
    "    It will depend on the problem statement which model will best fit for our problem.\n",
    "\n",
    "ii)Studying Under supervision: This is a machine learning technique in which the dependent variables are kabelled with\n",
    "    respect to the independent variable. For Examples: We are feeding thousands of fruits images to our model and asking\n",
    "    our model to name them. During the learning process the name of fruit corresponding to the image is provided so that\n",
    "    our machine can learn it. In the predicting stage whenever, we provide the new fruit image our model can predict the \n",
    "    name of the fruit base on its previous supervised learning."
   ]
  }
 ],
 "metadata": {
  "kernelspec": {
   "display_name": "Python 3 (ipykernel)",
   "language": "python",
   "name": "python3"
  },
  "language_info": {
   "codemirror_mode": {
    "name": "ipython",
    "version": 3
   },
   "file_extension": ".py",
   "mimetype": "text/x-python",
   "name": "python",
   "nbconvert_exporter": "python",
   "pygments_lexer": "ipython3",
   "version": "3.9.12"
  }
 },
 "nbformat": 4,
 "nbformat_minor": 5
}
